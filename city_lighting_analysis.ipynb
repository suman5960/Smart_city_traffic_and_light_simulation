{
 "cells": [
  {
   "cell_type": "code",
   "execution_count": 1,
   "id": "e60320ee",
   "metadata": {},
   "outputs": [
    {
     "name": "stdout",
     "output_type": "stream",
     "text": [
      "✅ Loaded 2500 intersections (nodes)\n",
      "✅ Loaded 17885 streetlights\n",
      "✅ Loaded 2311767 vehicle records\n",
      "✅ Loaded 3525007 pedestrian records\n"
     ]
    }
   ],
   "source": [
    "# 📦 MODULE 1: Data Loader\n",
    "import pandas as pd\n",
    "import json\n",
    "import networkx as nx\n",
    "\n",
    "# === Load City Grid ===\n",
    "with open('city_grid.json', 'r') as f:\n",
    "    city_grid = json.load(f)\n",
    "\n",
    "# === Load Streetlights Info ===\n",
    "with open('streetlights.json', 'r') as f:\n",
    "    streetlights = json.load(f)\n",
    "\n",
    "# === Load City Analysis (Optional for later use) ===\n",
    "with open('city_analysis.json', 'r') as f:\n",
    "    city_analysis = json.load(f)\n",
    "\n",
    "# === Load Traffic Data ===\n",
    "vehicle_log = pd.read_csv('vehicles_log_1.csv')\n",
    "pedestrian_log = pd.read_csv('pedestrians_log_1.csv')\n",
    "\n",
    "print(f\"✅ Loaded {len(city_grid['nodes'])} intersections (nodes)\")\n",
    "print(f\"✅ Loaded {len(streetlights)} streetlights\")\n",
    "print(f\"✅ Loaded {len(vehicle_log)} vehicle records\")\n",
    "print(f\"✅ Loaded {len(pedestrian_log)} pedestrian records\")\n"
   ]
  },
  {
   "cell_type": "code",
   "execution_count": 2,
   "id": "7eff6d0e",
   "metadata": {},
   "outputs": [
    {
     "name": "stdout",
     "output_type": "stream",
     "text": [
      "✅ Built graph with 2500 nodes and 4900 edges\n"
     ]
    }
   ],
   "source": [
    "# 📦 MODULE 2: City Graph Builder\n",
    "import networkx as nx\n",
    "\n",
    "# === Initialize a Directed Graph ===\n",
    "city_graph = nx.DiGraph()\n",
    "\n",
    "# === Add Nodes (Intersections) ===\n",
    "for node in city_grid['nodes']:\n",
    "    city_graph.add_node(node['id'], **{\n",
    "        'zone': node['zone'],\n",
    "        'traffic_light': node['traffic_light'],\n",
    "        'traffic_light_delay': node['traffic_light_delay']\n",
    "    })\n",
    "\n",
    "# === Add Edges (Roads) ===\n",
    "# We need to add edges from city_analysis road_stats (already gives from-to info)\n",
    "\n",
    "for road_key, road_info in city_analysis['road_stats'].items():\n",
    "    # Clean the weird unicode arrow to a normal →\n",
    "    if '→' in road_key:\n",
    "        from_node, to_node = road_key.split('→')\n",
    "    else:\n",
    "        from_node, to_node = road_key.split('->')  # fallback, just in case\n",
    "\n",
    "    city_graph.add_edge(from_node, to_node, **{\n",
    "        'length_km': road_info['length_km'],\n",
    "        'road_type': road_info['road_type'],\n",
    "        'streetlights': road_info['streetlights'],\n",
    "        'lights_per_km': road_info['lights_per_km'],\n",
    "        'capacity': road_info['capacity'],\n",
    "        'delay': road_info['delay']\n",
    "    })\n",
    "\n",
    "print(f\"✅ Built graph with {city_graph.number_of_nodes()} nodes and {city_graph.number_of_edges()} edges\")\n"
   ]
  },
  {
   "cell_type": "code",
   "execution_count": 3,
   "id": "a7efa4a9",
   "metadata": {},
   "outputs": [
    {
     "name": "stdout",
     "output_type": "stream",
     "text": [
      "✅ Aggregated traffic for all roads per hour!\n"
     ]
    }
   ],
   "source": [
    "# 📦 MODULE 3: Hourly Traffic Analyzer\n",
    "from collections import defaultdict\n",
    "\n",
    "# === Initialize Traffic Counters ===\n",
    "# Structure: traffic_counter[from_node][to_node][hour] = count\n",
    "traffic_counter = defaultdict(lambda: defaultdict(lambda: defaultdict(int)))\n",
    "\n",
    "# === Helper: Parse Path into Road Segments ===\n",
    "def parse_path(path_str):\n",
    "    \"\"\"Convert 'A1→A2→A3' into [('A1', 'A2'), ('A2', 'A3')]\"\"\"\n",
    "    nodes = path_str.split('→')\n",
    "    return list(zip(nodes[:-1], nodes[1:]))\n",
    "\n",
    "# === Process Vehicle Logs ===\n",
    "for _, row in vehicle_log.iterrows():\n",
    "    path_segments = parse_path(row['path'])\n",
    "    hour = row['hour']\n",
    "    for from_node, to_node in path_segments:\n",
    "        traffic_counter[from_node][to_node][hour] += 1  # vehicle adds 1\n",
    "\n",
    "# === Process Pedestrian Logs ===\n",
    "for _, row in pedestrian_log.iterrows():\n",
    "    path_segments = parse_path(row['path'])\n",
    "    hour = row['hour']\n",
    "    for from_node, to_node in path_segments:\n",
    "        traffic_counter[from_node][to_node][hour] += 1  # pedestrian also adds 1\n",
    "\n",
    "print(\"✅ Aggregated traffic for all roads per hour!\")\n"
   ]
  },
  {
   "cell_type": "code",
   "execution_count": 4,
   "id": "15a8e659",
   "metadata": {},
   "outputs": [
    {
     "data": {
      "text/plain": [
       "11"
      ]
     },
     "execution_count": 4,
     "metadata": {},
     "output_type": "execute_result"
    }
   ],
   "source": [
    "traffic_counter['A1']['A2'][0]  # Traffic from A1 to A2 during 0th hour\n"
   ]
  },
  {
   "cell_type": "code",
   "execution_count": 5,
   "id": "88d8b774",
   "metadata": {},
   "outputs": [
    {
     "name": "stdout",
     "output_type": "stream",
     "text": [
      "✅ Voltage optimization complete!\n"
     ]
    }
   ],
   "source": [
    "# 📦 MODULE 4: Traffic-to-Voltage Optimizer\n",
    "import numpy as np\n",
    "\n",
    "# === Parameters you can tweak ===\n",
    "MIN_VOLTAGE = 20  # Minimum voltage even if 0 traffic\n",
    "MAX_VOLTAGE = 100  # Maximum voltage at max traffic\n",
    "TRAFFIC_THRESHOLD = 100  # If traffic >= this, max voltage is given\n",
    "\n",
    "# === Initialize voltage schedule ===\n",
    "# Structure: voltage_schedule[from_node][to_node][hour] = voltage\n",
    "voltage_schedule = defaultdict(lambda: defaultdict(lambda: defaultdict(float)))\n",
    "\n",
    "# === Calculate Voltage per Road per Hour ===\n",
    "for from_node in traffic_counter:\n",
    "    for to_node in traffic_counter[from_node]:\n",
    "        for hour in list(range(19, 24)) + list(range(0, 7)):  # assuming 0-23 hours\n",
    "            traffic = traffic_counter[from_node][to_node].get(hour, 0)\n",
    "            # Normalize traffic to voltage\n",
    "            if traffic >= TRAFFIC_THRESHOLD:\n",
    "                voltage = MAX_VOLTAGE\n",
    "            else:\n",
    "                voltage = MIN_VOLTAGE + (traffic / TRAFFIC_THRESHOLD) * (MAX_VOLTAGE - MIN_VOLTAGE)\n",
    "            voltage_schedule[from_node][to_node][hour] = round(voltage, 2)\n",
    "\n",
    "print(\"✅ Voltage optimization complete!\")\n"
   ]
  },
  {
   "cell_type": "code",
   "execution_count": 6,
   "id": "99206116",
   "metadata": {},
   "outputs": [
    {
     "data": {
      "text/plain": [
       "28.8"
      ]
     },
     "execution_count": 6,
     "metadata": {},
     "output_type": "execute_result"
    }
   ],
   "source": [
    "voltage_schedule['A1']['A2'][0]\n"
   ]
  },
  {
   "cell_type": "code",
   "execution_count": 7,
   "id": "0b57c137",
   "metadata": {},
   "outputs": [
    {
     "name": "stdout",
     "output_type": "stream",
     "text": [
      "✅ Voltage smoothing complete!\n"
     ]
    }
   ],
   "source": [
    "# 📦 MODULE 5: Smart Voltage Smoother\n",
    "def smooth_voltages(voltage_schedule, smoothing_factor=0.6):\n",
    "    \"\"\"Smooths sudden jumps in voltage using simple weighted average.\"\"\"\n",
    "    smoothed_schedule = defaultdict(lambda: defaultdict(lambda: defaultdict(float)))\n",
    "    \n",
    "    for from_node in voltage_schedule:\n",
    "        for to_node in voltage_schedule[from_node]:\n",
    "            prev_voltage = None\n",
    "            for hour in list(range(19, 24)) + list(range(0, 7)):\n",
    "                current_voltage = voltage_schedule[from_node][to_node][hour]\n",
    "                \n",
    "                if prev_voltage is None:\n",
    "                    smoothed_voltage = current_voltage\n",
    "                else:\n",
    "                    smoothed_voltage = (smoothing_factor * prev_voltage) + ((1 - smoothing_factor) * current_voltage)\n",
    "                \n",
    "                smoothed_schedule[from_node][to_node][hour] = round(smoothed_voltage, 2)\n",
    "                prev_voltage = smoothed_voltage  # update for next hour\n",
    "                \n",
    "    return smoothed_schedule\n",
    "\n",
    "# === Apply smoothing\n",
    "smoothed_voltage_schedule = smooth_voltages(voltage_schedule)\n",
    "\n",
    "print(\"✅ Voltage smoothing complete!\")\n"
   ]
  },
  {
   "cell_type": "code",
   "execution_count": 8,
   "id": "a0b51fe4",
   "metadata": {},
   "outputs": [
    {
     "data": {
      "text/plain": [
       "39.45"
      ]
     },
     "execution_count": 8,
     "metadata": {},
     "output_type": "execute_result"
    }
   ],
   "source": [
    "smoothed_voltage_schedule['A1']['A2'][0]\n"
   ]
  },
  {
   "cell_type": "code",
   "execution_count": 9,
   "id": "4d4496cf",
   "metadata": {},
   "outputs": [
    {
     "name": "stdout",
     "output_type": "stream",
     "text": [
      "✅ Voltage schedule exported to smoothed_voltage_schedule.json\n"
     ]
    }
   ],
   "source": [
    "# 📦 MODULE 6A: Voltage Scheduler Exporter (Save to JSON)\n",
    "import json\n",
    "\n",
    "# === Export smoothed voltage schedule to a JSON file ===\n",
    "def export_voltage_schedule(smoothed_schedule, filename='smoothed_voltage_schedule.json'):\n",
    "    with open(filename, 'w') as f:\n",
    "        json.dump(smoothed_schedule, f, indent=4)\n",
    "    print(f\"✅ Voltage schedule exported to {filename}\")\n",
    "\n",
    "# === Run Export Function ===\n",
    "export_voltage_schedule(smoothed_voltage_schedule)\n"
   ]
  },
  {
   "cell_type": "code",
   "execution_count": 10,
   "id": "3b5911a3",
   "metadata": {},
   "outputs": [
    {
     "name": "stdout",
     "output_type": "stream",
     "text": [
      "✅ traffic_data.json has been generated successfully!\n"
     ]
    }
   ],
   "source": [
    "# traffic_data_generator.ipynb\n",
    "\n",
    "import pandas as pd\n",
    "import json\n",
    "\n",
    "# Load the vehicle and pedestrian log data\n",
    "vehicle_log = pd.read_csv('vehicles_log_1.csv')\n",
    "pedestrian_log = pd.read_csv('pedestrians_log_1.csv')\n",
    "\n",
    "# Function to create a traffic data dictionary\n",
    "def generate_traffic_data(vehicle_log, pedestrian_log):\n",
    "    # Initialize an empty dictionary to hold the traffic data\n",
    "    traffic_data = {}\n",
    "\n",
    "    # Process vehicle data\n",
    "    for _, row in vehicle_log.iterrows():\n",
    "        from_intersection = row['from']\n",
    "        to_intersection = row['to']\n",
    "        hour = row['hour']\n",
    "        \n",
    "        # Initialize dictionary for the intersection pair if not already created\n",
    "        if from_intersection not in traffic_data:\n",
    "            traffic_data[from_intersection] = {}\n",
    "        if to_intersection not in traffic_data:\n",
    "            traffic_data[to_intersection] = {}\n",
    "        \n",
    "        # Initialize traffic counts for each hour if not already created\n",
    "        if hour not in traffic_data[from_intersection]:\n",
    "            traffic_data[from_intersection][hour] = {'vehicle': 0, 'pedestrian': 0}\n",
    "        if hour not in traffic_data[to_intersection]:\n",
    "            traffic_data[to_intersection][hour] = {'vehicle': 0, 'pedestrian': 0}\n",
    "        \n",
    "        # Increment vehicle traffic count\n",
    "        traffic_data[from_intersection][hour]['vehicle'] += 1\n",
    "        traffic_data[to_intersection][hour]['vehicle'] += 1\n",
    "\n",
    "    # Process pedestrian data\n",
    "    for _, row in pedestrian_log.iterrows():\n",
    "        from_intersection = row['from']\n",
    "        to_intersection = row['to']\n",
    "        hour = row['hour']\n",
    "        \n",
    "        # Initialize traffic counts for each hour if not already created\n",
    "        if hour not in traffic_data[from_intersection]:\n",
    "            traffic_data[from_intersection][hour] = {'vehicle': 0, 'pedestrian': 0}\n",
    "        if hour not in traffic_data[to_intersection]:\n",
    "            traffic_data[to_intersection][hour] = {'vehicle': 0, 'pedestrian': 0}\n",
    "        \n",
    "        # Increment pedestrian traffic count\n",
    "        traffic_data[from_intersection][hour]['pedestrian'] += 1\n",
    "        traffic_data[to_intersection][hour]['pedestrian'] += 1\n",
    "\n",
    "    return traffic_data\n",
    "\n",
    "# Generate the traffic data\n",
    "traffic_data = generate_traffic_data(vehicle_log, pedestrian_log)\n",
    "\n",
    "# Export traffic data to a JSON file\n",
    "with open('traffic_data.json', 'w') as f:\n",
    "    json.dump(traffic_data, f, indent=4)\n",
    "\n",
    "print(\"✅ traffic_data.json has been generated successfully!\")\n"
   ]
  },
  {
   "cell_type": "code",
   "execution_count": 11,
   "id": "1a8b7c73",
   "metadata": {},
   "outputs": [
    {
     "data": {
      "image/png": "[encoded data removed]",
      "text/plain": [
       "<Figure size 640x480 with 2 Axes>"
      ]
     },
     "metadata": {},
     "output_type": "display_data"
    }
   ],
   "source": [
    "# 📦 MODULE 6B: City Light Heatmap Visualizer\n",
    "import matplotlib.pyplot as plt\n",
    "import numpy as np\n",
    "\n",
    "# === Helper: Create a grid for the heatmap ===\n",
    "def create_voltage_heatmap(smoothed_schedule, grid_size=(5, 5)):\n",
    "    # Create a dummy 5x5 city grid (You could scale this later)\n",
    "    voltage_grid = np.zeros(grid_size)\n",
    "    \n",
    "    # Populate the grid with average voltage for each intersection\n",
    "    for i, from_node in enumerate(smoothed_schedule):\n",
    "        for j, to_node in enumerate(smoothed_schedule[from_node]):\n",
    "            # Take the average voltage for each road pair\n",
    "            avg_voltage = np.mean([smoothed_schedule[from_node][to_node][hour] for hour in range(24)])\n",
    "            voltage_grid[i % grid_size[0]][j % grid_size[1]] = avg_voltage\n",
    "    \n",
    "    return voltage_grid\n",
    "\n",
    "# === Plot Heatmap ===\n",
    "def plot_heatmap(voltage_grid):\n",
    "    plt.imshow(voltage_grid, cmap='YlOrRd', interpolation='nearest')\n",
    "    plt.colorbar(label='Voltage Level')\n",
    "    plt.title(\"City Streetlight Voltage Heatmap\")\n",
    "    plt.xlabel(\"Intersection X\")\n",
    "    plt.ylabel(\"Intersection Y\")\n",
    "    plt.show()\n",
    "\n",
    "# === Generate and Plot Heatmap ===\n",
    "voltage_grid = create_voltage_heatmap(smoothed_voltage_schedule)\n",
    "plot_heatmap(voltage_grid)\n"
   ]
  }
 ],
 "metadata": {
  "kernelspec": {
   "display_name": "Python 3",
   "language": "python",
   "name": "python3"
  },
  "language_info": {
   "codemirror_mode": {
    "name": "ipython",
    "version": 3
   },
   "file_extension": ".py",
   "mimetype": "text/x-python",
   "name": "python",
   "nbconvert_exporter": "python",
   "pygments_lexer": "ipython3",
   "version": "3.12.9"
  }
 },
 "nbformat": 4,
 "nbformat_minor": 5
}
